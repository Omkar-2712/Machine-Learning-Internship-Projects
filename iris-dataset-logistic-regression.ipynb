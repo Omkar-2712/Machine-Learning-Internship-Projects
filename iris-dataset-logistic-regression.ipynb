{
 "cells": [
  {
   "cell_type": "code",
   "execution_count": 1,
   "id": "0a2cb886",
   "metadata": {
    "execution": {
     "iopub.execute_input": "2023-06-21T15:16:23.260150Z",
     "iopub.status.busy": "2023-06-21T15:16:23.259660Z",
     "iopub.status.idle": "2023-06-21T15:16:23.318998Z",
     "shell.execute_reply": "2023-06-21T15:16:23.317948Z"
    },
    "papermill": {
     "duration": 0.068368,
     "end_time": "2023-06-21T15:16:23.321537",
     "exception": false,
     "start_time": "2023-06-21T15:16:23.253169",
     "status": "completed"
    },
    "tags": []
   },
   "outputs": [
    {
     "data": {
      "text/html": [
       "<div>\n",
       "<style scoped>\n",
       "    .dataframe tbody tr th:only-of-type {\n",
       "        vertical-align: middle;\n",
       "    }\n",
       "\n",
       "    .dataframe tbody tr th {\n",
       "        vertical-align: top;\n",
       "    }\n",
       "\n",
       "    .dataframe thead th {\n",
       "        text-align: right;\n",
       "    }\n",
       "</style>\n",
       "<table border=\"1\" class=\"dataframe\">\n",
       "  <thead>\n",
       "    <tr style=\"text-align: right;\">\n",
       "      <th></th>\n",
       "      <th>sepal_length</th>\n",
       "      <th>sepal_width</th>\n",
       "      <th>petal_length</th>\n",
       "      <th>petal_width</th>\n",
       "      <th>species</th>\n",
       "    </tr>\n",
       "  </thead>\n",
       "  <tbody>\n",
       "    <tr>\n",
       "      <th>0</th>\n",
       "      <td>5.1</td>\n",
       "      <td>3.5</td>\n",
       "      <td>1.4</td>\n",
       "      <td>0.2</td>\n",
       "      <td>setosa</td>\n",
       "    </tr>\n",
       "    <tr>\n",
       "      <th>1</th>\n",
       "      <td>4.9</td>\n",
       "      <td>3.0</td>\n",
       "      <td>1.4</td>\n",
       "      <td>0.2</td>\n",
       "      <td>setosa</td>\n",
       "    </tr>\n",
       "    <tr>\n",
       "      <th>2</th>\n",
       "      <td>4.7</td>\n",
       "      <td>3.2</td>\n",
       "      <td>1.3</td>\n",
       "      <td>0.2</td>\n",
       "      <td>setosa</td>\n",
       "    </tr>\n",
       "    <tr>\n",
       "      <th>3</th>\n",
       "      <td>4.6</td>\n",
       "      <td>3.1</td>\n",
       "      <td>1.5</td>\n",
       "      <td>0.2</td>\n",
       "      <td>setosa</td>\n",
       "    </tr>\n",
       "    <tr>\n",
       "      <th>4</th>\n",
       "      <td>5.0</td>\n",
       "      <td>3.6</td>\n",
       "      <td>1.4</td>\n",
       "      <td>0.2</td>\n",
       "      <td>setosa</td>\n",
       "    </tr>\n",
       "    <tr>\n",
       "      <th>...</th>\n",
       "      <td>...</td>\n",
       "      <td>...</td>\n",
       "      <td>...</td>\n",
       "      <td>...</td>\n",
       "      <td>...</td>\n",
       "    </tr>\n",
       "    <tr>\n",
       "      <th>145</th>\n",
       "      <td>6.7</td>\n",
       "      <td>3.0</td>\n",
       "      <td>5.2</td>\n",
       "      <td>2.3</td>\n",
       "      <td>virginica</td>\n",
       "    </tr>\n",
       "    <tr>\n",
       "      <th>146</th>\n",
       "      <td>6.3</td>\n",
       "      <td>2.5</td>\n",
       "      <td>5.0</td>\n",
       "      <td>1.9</td>\n",
       "      <td>virginica</td>\n",
       "    </tr>\n",
       "    <tr>\n",
       "      <th>147</th>\n",
       "      <td>6.5</td>\n",
       "      <td>3.0</td>\n",
       "      <td>5.2</td>\n",
       "      <td>2.0</td>\n",
       "      <td>virginica</td>\n",
       "    </tr>\n",
       "    <tr>\n",
       "      <th>148</th>\n",
       "      <td>6.2</td>\n",
       "      <td>3.4</td>\n",
       "      <td>5.4</td>\n",
       "      <td>2.3</td>\n",
       "      <td>virginica</td>\n",
       "    </tr>\n",
       "    <tr>\n",
       "      <th>149</th>\n",
       "      <td>5.9</td>\n",
       "      <td>3.0</td>\n",
       "      <td>5.1</td>\n",
       "      <td>1.8</td>\n",
       "      <td>virginica</td>\n",
       "    </tr>\n",
       "  </tbody>\n",
       "</table>\n",
       "<p>150 rows × 5 columns</p>\n",
       "</div>"
      ],
      "text/plain": [
       "     sepal_length  sepal_width  petal_length  petal_width    species\n",
       "0             5.1          3.5           1.4          0.2     setosa\n",
       "1             4.9          3.0           1.4          0.2     setosa\n",
       "2             4.7          3.2           1.3          0.2     setosa\n",
       "3             4.6          3.1           1.5          0.2     setosa\n",
       "4             5.0          3.6           1.4          0.2     setosa\n",
       "..            ...          ...           ...          ...        ...\n",
       "145           6.7          3.0           5.2          2.3  virginica\n",
       "146           6.3          2.5           5.0          1.9  virginica\n",
       "147           6.5          3.0           5.2          2.0  virginica\n",
       "148           6.2          3.4           5.4          2.3  virginica\n",
       "149           5.9          3.0           5.1          1.8  virginica\n",
       "\n",
       "[150 rows x 5 columns]"
      ]
     },
     "execution_count": 1,
     "metadata": {},
     "output_type": "execute_result"
    }
   ],
   "source": [
    "import pandas as pd\n",
    "df=pd.read_csv(\"/kaggle/input/iris-dataset/iris.csv\")\n",
    "df"
   ]
  },
  {
   "cell_type": "code",
   "execution_count": 2,
   "id": "8693a14c",
   "metadata": {
    "execution": {
     "iopub.execute_input": "2023-06-21T15:16:23.332457Z",
     "iopub.status.busy": "2023-06-21T15:16:23.331757Z",
     "iopub.status.idle": "2023-06-21T15:16:23.342430Z",
     "shell.execute_reply": "2023-06-21T15:16:23.341263Z"
    },
    "papermill": {
     "duration": 0.019586,
     "end_time": "2023-06-21T15:16:23.345674",
     "exception": false,
     "start_time": "2023-06-21T15:16:23.326088",
     "status": "completed"
    },
    "tags": []
   },
   "outputs": [
    {
     "name": "stdout",
     "output_type": "stream",
     "text": [
      "sepal_length    0\n",
      "sepal_width     0\n",
      "petal_length    0\n",
      "petal_width     0\n",
      "species         0\n",
      "dtype: int64\n"
     ]
    }
   ],
   "source": [
    "print(df.isnull().sum())"
   ]
  },
  {
   "cell_type": "markdown",
   "id": "a1b2082a",
   "metadata": {
    "papermill": {
     "duration": 0.004126,
     "end_time": "2023-06-21T15:16:23.355320",
     "exception": false,
     "start_time": "2023-06-21T15:16:23.351194",
     "status": "completed"
    },
    "tags": []
   },
   "source": [
    "**Dealing with Outliers(if any)**"
   ]
  },
  {
   "cell_type": "code",
   "execution_count": 3,
   "id": "9f61df52",
   "metadata": {
    "execution": {
     "iopub.execute_input": "2023-06-21T15:16:23.368864Z",
     "iopub.status.busy": "2023-06-21T15:16:23.368170Z",
     "iopub.status.idle": "2023-06-21T15:16:23.391286Z",
     "shell.execute_reply": "2023-06-21T15:16:23.390152Z"
    },
    "papermill": {
     "duration": 0.033032,
     "end_time": "2023-06-21T15:16:23.393655",
     "exception": false,
     "start_time": "2023-06-21T15:16:23.360623",
     "status": "completed"
    },
    "tags": []
   },
   "outputs": [
    {
     "name": "stdout",
     "output_type": "stream",
     "text": [
      "0      5.1\n",
      "1      4.9\n",
      "2      4.7\n",
      "3      4.6\n",
      "4      5.0\n",
      "      ... \n",
      "145    6.7\n",
      "146    6.3\n",
      "147    6.5\n",
      "148    6.2\n",
      "149    5.9\n",
      "Name: sepal_length, Length: 150, dtype: float64\n",
      "1.3000000000000007\n",
      "8.350000000000001\n",
      "7.050000000000001\n",
      "0      5.1\n",
      "1      4.9\n",
      "2      4.7\n",
      "3      4.6\n",
      "4      5.0\n",
      "      ... \n",
      "145    6.7\n",
      "146    6.3\n",
      "147    6.5\n",
      "148    6.2\n",
      "149    5.9\n",
      "Name: sepal_length, Length: 150, dtype: float64\n"
     ]
    }
   ],
   "source": [
    "#Interquantile range\n",
    "\n",
    "print(df['sepal_length'])\n",
    "Q1 = df['sepal_length'].quantile(0.25)\n",
    "Q3 = df['sepal_length'].quantile(0.75)\n",
    "\n",
    "IQR = Q3 - Q1\n",
    "print(IQR)\n",
    "\n",
    "upper = Q3 + 1.5*IQR\n",
    "lower = Q1 + 1.5*IQR\n",
    "\n",
    "print(upper)\n",
    "print(lower)\n",
    "\n",
    "out1 = df[df['sepal_length'] < lower].values\n",
    "out2 = df[df['sepal_length'] > upper].values\n",
    "\n",
    "df['sepal_length'].replace(out1,lower,inplace=True)\n",
    "df['sepal_length'].replace(out2,upper,inplace=True)\n",
    "\n",
    "print(df['sepal_length'])"
   ]
  },
  {
   "cell_type": "markdown",
   "id": "651cb8a2",
   "metadata": {
    "papermill": {
     "duration": 0.004968,
     "end_time": "2023-06-21T15:16:23.406010",
     "exception": false,
     "start_time": "2023-06-21T15:16:23.401042",
     "status": "completed"
    },
    "tags": []
   },
   "source": [
    "**Principal Component Analysis**"
   ]
  },
  {
   "cell_type": "code",
   "execution_count": 4,
   "id": "1d76c745",
   "metadata": {
    "execution": {
     "iopub.execute_input": "2023-06-21T15:16:23.417496Z",
     "iopub.status.busy": "2023-06-21T15:16:23.416492Z",
     "iopub.status.idle": "2023-06-21T15:16:24.879654Z",
     "shell.execute_reply": "2023-06-21T15:16:24.878449Z"
    },
    "papermill": {
     "duration": 1.47152,
     "end_time": "2023-06-21T15:16:24.882334",
     "exception": false,
     "start_time": "2023-06-21T15:16:23.410814",
     "status": "completed"
    },
    "tags": []
   },
   "outputs": [],
   "source": [
    "from sklearn.decomposition import PCA\n",
    "from sklearn.linear_model import LogisticRegression\n",
    "from sklearn.model_selection import train_test_split\n",
    "from sklearn.metrics import accuracy_score"
   ]
  },
  {
   "cell_type": "code",
   "execution_count": 5,
   "id": "0c832439",
   "metadata": {
    "execution": {
     "iopub.execute_input": "2023-06-21T15:16:24.894854Z",
     "iopub.status.busy": "2023-06-21T15:16:24.894433Z",
     "iopub.status.idle": "2023-06-21T15:16:24.900165Z",
     "shell.execute_reply": "2023-06-21T15:16:24.898788Z"
    },
    "papermill": {
     "duration": 0.013654,
     "end_time": "2023-06-21T15:16:24.902319",
     "exception": false,
     "start_time": "2023-06-21T15:16:24.888665",
     "status": "completed"
    },
    "tags": []
   },
   "outputs": [],
   "source": [
    "logr = LogisticRegression()\n",
    "pca  = PCA(n_components = 2)"
   ]
  },
  {
   "cell_type": "code",
   "execution_count": 6,
   "id": "512921fb",
   "metadata": {
    "execution": {
     "iopub.execute_input": "2023-06-21T15:16:24.913411Z",
     "iopub.status.busy": "2023-06-21T15:16:24.912383Z",
     "iopub.status.idle": "2023-06-21T15:16:24.927600Z",
     "shell.execute_reply": "2023-06-21T15:16:24.926186Z"
    },
    "papermill": {
     "duration": 0.023118,
     "end_time": "2023-06-21T15:16:24.929919",
     "exception": false,
     "start_time": "2023-06-21T15:16:24.906801",
     "status": "completed"
    },
    "tags": []
   },
   "outputs": [
    {
     "name": "stdout",
     "output_type": "stream",
     "text": [
      "     sepal_length  sepal_width  petal_length  petal_width\n",
      "0             5.1          3.5           1.4          0.2\n",
      "1             4.9          3.0           1.4          0.2\n",
      "2             4.7          3.2           1.3          0.2\n",
      "3             4.6          3.1           1.5          0.2\n",
      "4             5.0          3.6           1.4          0.2\n",
      "..            ...          ...           ...          ...\n",
      "145           6.7          3.0           5.2          2.3\n",
      "146           6.3          2.5           5.0          1.9\n",
      "147           6.5          3.0           5.2          2.0\n",
      "148           6.2          3.4           5.4          2.3\n",
      "149           5.9          3.0           5.1          1.8\n",
      "\n",
      "[150 rows x 4 columns]\n",
      "0         setosa\n",
      "1         setosa\n",
      "2         setosa\n",
      "3         setosa\n",
      "4         setosa\n",
      "         ...    \n",
      "145    virginica\n",
      "146    virginica\n",
      "147    virginica\n",
      "148    virginica\n",
      "149    virginica\n",
      "Name: species, Length: 150, dtype: object\n"
     ]
    }
   ],
   "source": [
    "x = df.drop('species', axis =1)\n",
    "y = df['species']\n",
    "\n",
    "print(x)\n",
    "print(y)\n"
   ]
  },
  {
   "cell_type": "code",
   "execution_count": 7,
   "id": "d660aaec",
   "metadata": {
    "collapsed": true,
    "execution": {
     "iopub.execute_input": "2023-06-21T15:16:24.941338Z",
     "iopub.status.busy": "2023-06-21T15:16:24.940300Z",
     "iopub.status.idle": "2023-06-21T15:16:24.973015Z",
     "shell.execute_reply": "2023-06-21T15:16:24.971554Z"
    },
    "jupyter": {
     "outputs_hidden": true
    },
    "papermill": {
     "duration": 0.040964,
     "end_time": "2023-06-21T15:16:24.975526",
     "exception": false,
     "start_time": "2023-06-21T15:16:24.934562",
     "status": "completed"
    },
    "tags": []
   },
   "outputs": [
    {
     "name": "stdout",
     "output_type": "stream",
     "text": [
      "[[-2.68420713  0.32660731]\n",
      " [-2.71539062 -0.16955685]\n",
      " [-2.88981954 -0.13734561]\n",
      " [-2.7464372  -0.31112432]\n",
      " [-2.72859298  0.33392456]\n",
      " [-2.27989736  0.74778271]\n",
      " [-2.82089068 -0.08210451]\n",
      " [-2.62648199  0.17040535]\n",
      " [-2.88795857 -0.57079803]\n",
      " [-2.67384469 -0.1066917 ]\n",
      " [-2.50652679  0.65193501]\n",
      " [-2.61314272  0.02152063]\n",
      " [-2.78743398 -0.22774019]\n",
      " [-3.22520045 -0.50327991]\n",
      " [-2.64354322  1.1861949 ]\n",
      " [-2.38386932  1.34475434]\n",
      " [-2.6225262   0.81808967]\n",
      " [-2.64832273  0.31913667]\n",
      " [-2.19907796  0.87924409]\n",
      " [-2.58734619  0.52047364]\n",
      " [-2.3105317   0.39786782]\n",
      " [-2.54323491  0.44003175]\n",
      " [-3.21585769  0.14161557]\n",
      " [-2.30312854  0.10552268]\n",
      " [-2.35617109 -0.03120959]\n",
      " [-2.50791723 -0.13905634]\n",
      " [-2.469056    0.13788731]\n",
      " [-2.56239095  0.37468456]\n",
      " [-2.63982127  0.31929007]\n",
      " [-2.63284791 -0.19007583]\n",
      " [-2.58846205 -0.19739308]\n",
      " [-2.41007734  0.41808001]\n",
      " [-2.64763667  0.81998263]\n",
      " [-2.59715948  1.10002193]\n",
      " [-2.67384469 -0.1066917 ]\n",
      " [-2.86699985  0.0771931 ]\n",
      " [-2.62522846  0.60680001]\n",
      " [-2.67384469 -0.1066917 ]\n",
      " [-2.98184266 -0.48025005]\n",
      " [-2.59032303  0.23605934]\n",
      " [-2.77013891  0.27105942]\n",
      " [-2.85221108 -0.93286537]\n",
      " [-2.99829644 -0.33430757]\n",
      " [-2.4055141   0.19591726]\n",
      " [-2.20883295  0.44269603]\n",
      " [-2.71566519 -0.24268148]\n",
      " [-2.53757337  0.51036755]\n",
      " [-2.8403213  -0.22057634]\n",
      " [-2.54268576  0.58628103]\n",
      " [-2.70391231  0.11501085]\n",
      " [ 1.28479459  0.68543919]\n",
      " [ 0.93241075  0.31919809]\n",
      " [ 1.46406132  0.50418983]\n",
      " [ 0.18096721 -0.82560394]\n",
      " [ 1.08713449  0.07539039]\n",
      " [ 0.64043675 -0.41732348]\n",
      " [ 1.09522371  0.28389121]\n",
      " [-0.75146714 -1.00110751]\n",
      " [ 1.04329778  0.22895691]\n",
      " [-0.01019007 -0.72057487]\n",
      " [-0.5110862  -1.26249195]\n",
      " [ 0.51109806 -0.10228411]\n",
      " [ 0.26233576 -0.5478933 ]\n",
      " [ 0.98404455 -0.12436042]\n",
      " [-0.174864   -0.25181557]\n",
      " [ 0.92757294  0.46823621]\n",
      " [ 0.65959279 -0.35197629]\n",
      " [ 0.23454059 -0.33192183]\n",
      " [ 0.94236171 -0.54182226]\n",
      " [ 0.0432464  -0.58148945]\n",
      " [ 1.11624072 -0.08421401]\n",
      " [ 0.35678657 -0.06682383]\n",
      " [ 1.29646885 -0.32756152]\n",
      " [ 0.92050265 -0.18239036]\n",
      " [ 0.71400821  0.15037915]\n",
      " [ 0.89964086  0.32961098]\n",
      " [ 1.33104142  0.24466952]\n",
      " [ 1.55739627  0.26739258]\n",
      " [ 0.81245555 -0.16233157]\n",
      " [-0.30733476 -0.36508661]\n",
      " [-0.07034289 -0.70253793]\n",
      " [-0.19188449 -0.67749054]\n",
      " [ 0.13499495 -0.31170964]\n",
      " [ 1.37873698 -0.42120514]\n",
      " [ 0.58727485 -0.48328427]\n",
      " [ 0.8072055   0.19505396]\n",
      " [ 1.22042897  0.40803534]\n",
      " [ 0.81286779 -0.370679  ]\n",
      " [ 0.24519516 -0.26672804]\n",
      " [ 0.16451343 -0.67966147]\n",
      " [ 0.46303099 -0.66952655]\n",
      " [ 0.89016045 -0.03381244]\n",
      " [ 0.22887905 -0.40225762]\n",
      " [-0.70708128 -1.00842476]\n",
      " [ 0.35553304 -0.50321849]\n",
      " [ 0.33112695 -0.21118014]\n",
      " [ 0.37523823 -0.29162202]\n",
      " [ 0.64169028  0.01907118]\n",
      " [-0.90846333 -0.75156873]\n",
      " [ 0.29780791 -0.34701652]\n",
      " [ 2.53172698 -0.01184224]\n",
      " [ 1.41407223 -0.57492506]\n",
      " [ 2.61648461  0.34193529]\n",
      " [ 1.97081495 -0.18112569]\n",
      " [ 2.34975798 -0.04188255]\n",
      " [ 3.39687992  0.54716805]\n",
      " [ 0.51938325 -1.19135169]\n",
      " [ 2.9320051   0.35237701]\n",
      " [ 2.31967279 -0.24554817]\n",
      " [ 2.91813423  0.78038063]\n",
      " [ 1.66193495  0.2420384 ]\n",
      " [ 1.80234045 -0.21615461]\n",
      " [ 2.16537886  0.21528028]\n",
      " [ 1.34459422 -0.77641543]\n",
      " [ 1.5852673  -0.53930705]\n",
      " [ 1.90474358  0.11881899]\n",
      " [ 1.94924878  0.04073026]\n",
      " [ 3.48876538  1.17154454]\n",
      " [ 3.79468686  0.25326557]\n",
      " [ 1.29832982 -0.76101394]\n",
      " [ 2.42816726  0.37678197]\n",
      " [ 1.19809737 -0.60557896]\n",
      " [ 3.49926548  0.45677347]\n",
      " [ 1.38766825 -0.20403099]\n",
      " [ 2.27585365  0.33338653]\n",
      " [ 2.61419383  0.55836695]\n",
      " [ 1.25762518 -0.179137  ]\n",
      " [ 1.29066965 -0.11642525]\n",
      " [ 2.12285398 -0.21085488]\n",
      " [ 2.3875644   0.46251925]\n",
      " [ 2.84096093  0.37274259]\n",
      " [ 3.2323429   1.37052404]\n",
      " [ 2.15873837 -0.21832553]\n",
      " [ 1.4431026  -0.14380129]\n",
      " [ 1.77964011 -0.50146479]\n",
      " [ 3.07652162  0.68576444]\n",
      " [ 2.14498686  0.13890661]\n",
      " [ 1.90486293  0.04804751]\n",
      " [ 1.16885347 -0.1645025 ]\n",
      " [ 2.10765373  0.37148225]\n",
      " [ 2.31430339  0.18260885]\n",
      " [ 1.92245088  0.40927118]\n",
      " [ 1.41407223 -0.57492506]\n",
      " [ 2.56332271  0.2759745 ]\n",
      " [ 2.41939122  0.30350394]\n",
      " [ 1.94401705  0.18741522]\n",
      " [ 1.52566363 -0.37502085]\n",
      " [ 1.76404594  0.07851919]\n",
      " [ 1.90162908  0.11587675]\n",
      " [ 1.38966613 -0.28288671]]\n"
     ]
    }
   ],
   "source": [
    "pca.fit(x)\n",
    "x = pca.transform(x)\n",
    "\n",
    "print(x)"
   ]
  },
  {
   "cell_type": "code",
   "execution_count": 8,
   "id": "8aaf0ee3",
   "metadata": {
    "execution": {
     "iopub.execute_input": "2023-06-21T15:16:24.987097Z",
     "iopub.status.busy": "2023-06-21T15:16:24.986446Z",
     "iopub.status.idle": "2023-06-21T15:16:25.002482Z",
     "shell.execute_reply": "2023-06-21T15:16:25.001321Z"
    },
    "papermill": {
     "duration": 0.024582,
     "end_time": "2023-06-21T15:16:25.004951",
     "exception": false,
     "start_time": "2023-06-21T15:16:24.980369",
     "status": "completed"
    },
    "tags": []
   },
   "outputs": [],
   "source": [
    "x_train, x_test, y_train, y_test = train_test_split(x,y,random_state=0,test_size = 0.3)\n",
    "\n",
    "logr.fit(x_train,y_train)\n",
    "\n",
    "y_pred=logr.predict(x_test)"
   ]
  },
  {
   "cell_type": "markdown",
   "id": "635b8d45",
   "metadata": {
    "papermill": {
     "duration": 0.004458,
     "end_time": "2023-06-21T15:16:25.014287",
     "exception": false,
     "start_time": "2023-06-21T15:16:25.009829",
     "status": "completed"
    },
    "tags": []
   },
   "source": [
    "**Accuracy Score**"
   ]
  },
  {
   "cell_type": "code",
   "execution_count": 9,
   "id": "bb161678",
   "metadata": {
    "execution": {
     "iopub.execute_input": "2023-06-21T15:16:25.025267Z",
     "iopub.status.busy": "2023-06-21T15:16:25.024875Z",
     "iopub.status.idle": "2023-06-21T15:16:25.032916Z",
     "shell.execute_reply": "2023-06-21T15:16:25.031920Z"
    },
    "papermill": {
     "duration": 0.016178,
     "end_time": "2023-06-21T15:16:25.035170",
     "exception": false,
     "start_time": "2023-06-21T15:16:25.018992",
     "status": "completed"
    },
    "tags": []
   },
   "outputs": [
    {
     "data": {
      "text/plain": [
       "0.9777777777777777"
      ]
     },
     "execution_count": 9,
     "metadata": {},
     "output_type": "execute_result"
    }
   ],
   "source": [
    "result=(accuracy_score(y_test,y_pred))\n",
    "result\n"
   ]
  },
  {
   "cell_type": "code",
   "execution_count": 10,
   "id": "b5da1ddf",
   "metadata": {
    "execution": {
     "iopub.execute_input": "2023-06-21T15:16:25.046801Z",
     "iopub.status.busy": "2023-06-21T15:16:25.046390Z",
     "iopub.status.idle": "2023-06-21T15:16:25.052005Z",
     "shell.execute_reply": "2023-06-21T15:16:25.050931Z"
    },
    "papermill": {
     "duration": 0.013581,
     "end_time": "2023-06-21T15:16:25.054102",
     "exception": false,
     "start_time": "2023-06-21T15:16:25.040521",
     "status": "completed"
    },
    "tags": []
   },
   "outputs": [
    {
     "name": "stdout",
     "output_type": "stream",
     "text": [
      "Ohh yeahh!!\n"
     ]
    }
   ],
   "source": [
    "if result>0.95:\n",
    "    print(\"Ohh yeahh!!\")\n",
    "\n",
    "else:\n",
    "    print(\"try again nerd\")"
   ]
  },
  {
   "cell_type": "code",
   "execution_count": null,
   "id": "0ac73e61",
   "metadata": {
    "papermill": {
     "duration": 0.004631,
     "end_time": "2023-06-21T15:16:25.063783",
     "exception": false,
     "start_time": "2023-06-21T15:16:25.059152",
     "status": "completed"
    },
    "tags": []
   },
   "outputs": [],
   "source": []
  },
  {
   "cell_type": "code",
   "execution_count": null,
   "id": "b04781b0",
   "metadata": {
    "papermill": {
     "duration": 0.004677,
     "end_time": "2023-06-21T15:16:25.073394",
     "exception": false,
     "start_time": "2023-06-21T15:16:25.068717",
     "status": "completed"
    },
    "tags": []
   },
   "outputs": [],
   "source": []
  },
  {
   "cell_type": "markdown",
   "id": "53354c14",
   "metadata": {
    "papermill": {
     "duration": 0.004496,
     "end_time": "2023-06-21T15:16:25.082753",
     "exception": false,
     "start_time": "2023-06-21T15:16:25.078257",
     "status": "completed"
    },
    "tags": []
   },
   "source": []
  },
  {
   "cell_type": "code",
   "execution_count": null,
   "id": "e3739724",
   "metadata": {
    "papermill": {
     "duration": 0.004508,
     "end_time": "2023-06-21T15:16:25.092077",
     "exception": false,
     "start_time": "2023-06-21T15:16:25.087569",
     "status": "completed"
    },
    "tags": []
   },
   "outputs": [],
   "source": []
  }
 ],
 "metadata": {
  "kernelspec": {
   "display_name": "Python 3",
   "language": "python",
   "name": "python3"
  },
  "language_info": {
   "codemirror_mode": {
    "name": "ipython",
    "version": 3
   },
   "file_extension": ".py",
   "mimetype": "text/x-python",
   "name": "python",
   "nbconvert_exporter": "python",
   "pygments_lexer": "ipython3",
   "version": "3.10.10"
  },
  "papermill": {
   "default_parameters": {},
   "duration": 12.720425,
   "end_time": "2023-06-21T15:16:26.018497",
   "environment_variables": {},
   "exception": null,
   "input_path": "__notebook__.ipynb",
   "output_path": "__notebook__.ipynb",
   "parameters": {},
   "start_time": "2023-06-21T15:16:13.298072",
   "version": "2.4.0"
  }
 },
 "nbformat": 4,
 "nbformat_minor": 5
}
